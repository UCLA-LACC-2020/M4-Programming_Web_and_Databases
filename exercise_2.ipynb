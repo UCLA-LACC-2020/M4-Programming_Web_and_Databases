{
  "nbformat": 4,
  "nbformat_minor": 0,
  "metadata": {
    "colab": {
      "name": "exercise_2.ipynb",
      "provenance": [],
      "collapsed_sections": []
    },
    "kernelspec": {
      "display_name": "Python 3",
      "language": "python",
      "name": "python3"
    },
    "language_info": {
      "codemirror_mode": {
        "name": "ipython",
        "version": 3
      },
      "file_extension": ".py",
      "mimetype": "text/x-python",
      "name": "python",
      "nbconvert_exporter": "python",
      "pygments_lexer": "ipython3",
      "version": "3.7.0"
    }
  },
  "cells": [
    {
      "cell_type": "markdown",
      "metadata": {
        "colab_type": "text",
        "id": "kUwToQ-8sm8B"
      },
      "source": [
        "# Exercie 2: Using MongoDB in Python"
      ]
    },
    {
      "cell_type": "markdown",
      "metadata": {
        "colab_type": "text",
        "id": "lyZsQKZ8tPFK"
      },
      "source": [
        "## Demo 1:"
      ]
    },
    {
      "cell_type": "code",
      "metadata": {
        "colab_type": "code",
        "id": "uwTUrK1fft7s",
        "colab": {}
      },
      "source": [
        "'''\n",
        "    Install and start MongoDB service\n",
        "    Code can be found from: \n",
        "    https://docs.mongodb.com/manual/tutorial/install-mongodb-on-ubuntu/\n",
        "'''\n",
        "!pip install pymongo\n",
        "!wget -qO - https://www.mongodb.org/static/pgp/server-4.2.asc | sudo apt-key add -\n",
        "!sudo apt-get install gnupg\n",
        "!echo \"deb [ arch=amd64,arm64 ] https://repo.mongodb.org/apt/ubuntu bionic/mongodb-org/4.2 multiverse\" | sudo tee /etc/apt/sources.list.d/mongodb-org-4.2.list\n",
        "!sudo apt-get update\n",
        "!sudo apt-get install -y mongodb-org\n",
        "!sudo service mongod start\n",
        "!sudo rm /var/lib/mongodb/mongod.lock\n",
        "!sudo mongod --fork -f /etc/mongod.conf"
      ],
      "execution_count": null,
      "outputs": []
    },
    {
      "cell_type": "code",
      "metadata": {
        "colab_type": "code",
        "id": "1Q-ota3AxP61",
        "colab": {}
      },
      "source": [
        "import pymongo\n",
        "from pymongo import MongoClient\n",
        "import json"
      ],
      "execution_count": null,
      "outputs": []
    },
    {
      "cell_type": "code",
      "metadata": {
        "colab_type": "code",
        "id": "YOQnaxASxP66",
        "colab": {}
      },
      "source": [
        "# Create a MongoClient to interact with MongoDB Service\n",
        "client = MongoClient()\n",
        "# List all database names in the connected server\n",
        "client.list_database_names()"
      ],
      "execution_count": null,
      "outputs": []
    },
    {
      "cell_type": "code",
      "metadata": {
        "id": "6QVToX2qcH8I",
        "colab_type": "code",
        "colab": {}
      },
      "source": [
        "# Clean up\n",
        "client.drop_database('test_database')"
      ],
      "execution_count": null,
      "outputs": []
    },
    {
      "cell_type": "code",
      "metadata": {
        "colab_type": "code",
        "id": "H6zXcQ3YxP7A",
        "colab": {}
      },
      "source": [
        "# Choose a database\n",
        "db = client['test_database']\n",
        "# List all collections in a database\n",
        "db.list_collection_names()"
      ],
      "execution_count": null,
      "outputs": []
    },
    {
      "cell_type": "code",
      "metadata": {
        "colab_type": "code",
        "id": "oOAwoAXkxP7G",
        "colab": {}
      },
      "source": [
        "# Choose a collection\n",
        "collection = db['test_collection']\n",
        "collection"
      ],
      "execution_count": null,
      "outputs": []
    },
    {
      "cell_type": "code",
      "metadata": {
        "colab_type": "code",
        "id": "I2gcMYe_sMLr",
        "colab": {}
      },
      "source": [
        "# Insert a data item\n",
        "data = '{\"Name\": \"Sandeep\", \"City\": \"Los Angeles\", \"id\": 20}'\n",
        "j = json.loads(data)\n",
        "data_id = collection.insert_one(j).inserted_id\n",
        "collection.find_one()"
      ],
      "execution_count": null,
      "outputs": []
    },
    {
      "cell_type": "markdown",
      "metadata": {
        "colab_type": "text",
        "id": "XTqjAkAntTGs"
      },
      "source": [
        "## Demo 2"
      ]
    },
    {
      "cell_type": "code",
      "metadata": {
        "id": "LcdJNWJucPrM",
        "colab_type": "code",
        "colab": {}
      },
      "source": [
        "# Clean up\n",
        "client.drop_database('test_database')"
      ],
      "execution_count": null,
      "outputs": []
    },
    {
      "cell_type": "code",
      "metadata": {
        "colab_type": "code",
        "id": "Z7Arenk-tV9e",
        "colab": {}
      },
      "source": [
        "# Get data from web API\n",
        "import requests\n",
        "url=\"https://maps.googleapis.com/maps/api/place/nearbysearch/json?location=34.0635363,-118.4455592&radius=1000&type=hotels&keyword=stay&key=%20AIzaSyDC-YqTnzBikF1i9fbrvX4W6Xd0YOQEb-A\"\n",
        "response = requests.get(url)\n",
        "print(response.text)"
      ],
      "execution_count": null,
      "outputs": []
    },
    {
      "cell_type": "code",
      "metadata": {
        "id": "vaW8P3XKy_cD",
        "colab_type": "code",
        "colab": {}
      },
      "source": [
        "# Parse json\n",
        "rawdata=response.text\n",
        "rawjson=json.loads(rawdata)\n",
        "data=rawjson['results']\n",
        "print(data)"
      ],
      "execution_count": null,
      "outputs": []
    },
    {
      "cell_type": "code",
      "metadata": {
        "id": "eTn6wn0hy_cG",
        "colab_type": "code",
        "colab": {}
      },
      "source": [
        "# Insert into MongoDB\n",
        "# The previous steps are already done in Demo 1\n",
        "data_id = collection.insert_many(data).inserted_ids"
      ],
      "execution_count": null,
      "outputs": []
    },
    {
      "cell_type": "code",
      "metadata": {
        "id": "i7Q-MAuty_cI",
        "colab_type": "code",
        "colab": {}
      },
      "source": [
        "# Print All data\n",
        "cursor=collection.find()\n",
        "for doc in cursor:\n",
        "  print(doc)"
      ],
      "execution_count": null,
      "outputs": []
    },
    {
      "cell_type": "markdown",
      "metadata": {
        "id": "-gbAV44VcgQx",
        "colab_type": "text"
      },
      "source": [
        "## Demo 3"
      ]
    },
    {
      "cell_type": "code",
      "metadata": {
        "id": "DajyiJLQchc9",
        "colab_type": "code",
        "colab": {}
      },
      "source": [
        "# Print location from data\n",
        "cursor = collection.find()\n",
        "for doc in cursor:\n",
        "  print(doc['geometry'])"
      ],
      "execution_count": null,
      "outputs": []
    },
    {
      "cell_type": "code",
      "metadata": {
        "id": "ch63bxiNcsUt",
        "colab_type": "code",
        "colab": {}
      },
      "source": [
        "# Creating index and query\n",
        "collection.create_index([('rating',pymongo.ASCENDING)])\n",
        "collection.create_index([('rating',pymongo.DESCENDING)])\n",
        "cursor=collection.find().sort([(\"rating\",-1)]).limit(1)\n",
        "for doc in cursor:\n",
        "  print(doc['name'])"
      ],
      "execution_count": null,
      "outputs": []
    }
  ]
}