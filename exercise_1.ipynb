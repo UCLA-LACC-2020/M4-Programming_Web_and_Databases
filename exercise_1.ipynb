{
  "nbformat": 4,
  "nbformat_minor": 0,
  "metadata": {
    "colab": {
      "name": "exercise_1.ipynb",
      "provenance": [],
      "collapsed_sections": [],
      "toc_visible": true
    },
    "kernelspec": {
      "name": "python3",
      "display_name": "Python 3"
    }
  },
  "cells": [
    {
      "cell_type": "markdown",
      "metadata": {
        "id": "view-in-github",
        "colab_type": "text"
      },
      "source": [
        "<a href=\"https://colab.research.google.com/github/UCLA-LACC-2020/M4-Programming_Web_and_Databases/blob/master/exercise_1.ipynb\" target=\"_parent\"><img src=\"https://colab.research.google.com/assets/colab-badge.svg\" alt=\"Open In Colab\"/></a>"
      ]
    },
    {
      "cell_type": "code",
      "metadata": {
        "id": "yB47P66Oyc7P",
        "colab_type": "code",
        "colab": {}
      },
      "source": [
        "!sudo pip install request"
      ],
      "execution_count": null,
      "outputs": []
    },
    {
      "cell_type": "markdown",
      "metadata": {
        "id": "bYxlhtqSZ5aF",
        "colab_type": "text"
      },
      "source": [
        "# New Section"
      ]
    },
    {
      "cell_type": "code",
      "metadata": {
        "id": "BnviNwriys3S",
        "colab_type": "code",
        "colab": {}
      },
      "source": [
        "import requests"
      ],
      "execution_count": null,
      "outputs": []
    },
    {
      "cell_type": "code",
      "metadata": {
        "id": "BfPxo5Epy1sZ",
        "colab_type": "code",
        "colab": {}
      },
      "source": [
        "url=\"http://api.openweathermap.org/data/2.5/weather?lat=34.0635363&lon=-118.4455592&units=Imperial&appid=a3276b42c9fbb481824cd2e6c23dd953\""
      ],
      "execution_count": null,
      "outputs": []
    },
    {
      "cell_type": "code",
      "metadata": {
        "id": "d66JwLcuy2bm",
        "colab_type": "code",
        "colab": {}
      },
      "source": [
        "response = requests.get(url)\n",
        "print(response.text)"
      ],
      "execution_count": null,
      "outputs": []
    }
  ]
}