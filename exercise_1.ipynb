{
  "nbformat": 4,
  "nbformat_minor": 0,
  "metadata": {
    "colab": {
      "name": "exercise.ipynb",
      "provenance": [],
      "collapsed_sections": [],
      "toc_visible": true,
      "authorship_tag": "ABX9TyMLHhVh0ZzPOG+LRhDwrNBQ",
      "include_colab_link": true
    },
    "kernelspec": {
      "name": "python3",
      "display_name": "Python 3"
    }
  },
  "cells": [
    {
      "cell_type": "markdown",
      "metadata": {
        "id": "view-in-github",
        "colab_type": "text"
      },
      "source": [
        "<a href=\"https://colab.research.google.com/github/UCLA-LACC-2020/M4-Programming_Web_and_Databases/blob/master/exercise_1.ipynb\" target=\"_parent\"><img src=\"https://colab.research.google.com/assets/colab-badge.svg\" alt=\"Open In Colab\"/></a>"
      ]
    },
    {
      "cell_type": "code",
      "metadata": {
        "id": "yB47P66Oyc7P",
        "colab_type": "code",
        "colab": {
          "base_uri": "https://localhost:8080/",
          "height": 420
        },
        "outputId": "0dffdd93-39f5-461c-fcc1-769d7e4ebc44"
      },
      "source": [
        "!sudo pip install request"
      ],
      "execution_count": 1,
      "outputs": [
        {
          "output_type": "stream",
          "text": [
            "Collecting request\n",
            "  Downloading https://files.pythonhosted.org/packages/4b/d0/d0a74562892593e67333deb59935739e9d6990e8eb5980643f3910f3b432/request-2020.7.1.tar.gz\n",
            "Collecting get\n",
            "  Downloading https://files.pythonhosted.org/packages/a1/8a/2cf10aed04b8c98cbdebae3bac643f674896f53a92bb296987c1e72d5607/get-2020.7.1.tar.gz\n",
            "Collecting post\n",
            "  Downloading https://files.pythonhosted.org/packages/88/44/b3ed3b07e94b0b03915fdd95bbe1f5a1b909a35b32af8113c7b1d363fba4/post-2020.7.1.tar.gz\n",
            "Collecting query-string\n",
            "  Downloading https://files.pythonhosted.org/packages/1f/16/453de6d1cb79383bdb5d0b580ac1eaba73cccf2dcc1add1215e7bd9d0904/query-string-2020.7.1.tar.gz\n",
            "Building wheels for collected packages: request, get, post, query-string\n",
            "  Building wheel for request (setup.py) ... \u001b[?25l\u001b[?25hdone\n",
            "  Created wheel for request: filename=request-0.0.0-cp36-none-any.whl size=1326 sha256=a483889aa87a0c5a43a4c319f437418697e341db4f357f55257d6fd8095331c9\n",
            "  Stored in directory: /root/.cache/pip/wheels/d0/dd/4d/b2d488171e9e1129106e8134af9f2655f62dd17edd9d9a6b5f\n",
            "  Building wheel for get (setup.py) ... \u001b[?25l\u001b[?25hdone\n",
            "  Created wheel for get: filename=get-0.0.0-cp36-none-any.whl size=1324 sha256=8a478e5ed02e7706686f50594b0e34c4f68650bef16840599b9869fdafbf1c41\n",
            "  Stored in directory: /root/.cache/pip/wheels/0e/d1/1d/52b42199057663cc6cd7f012086fee189e1c0bd851fd7b6fd3\n",
            "  Building wheel for post (setup.py) ... \u001b[?25l\u001b[?25hdone\n",
            "  Created wheel for post: filename=post-0.0.0-cp36-none-any.whl size=1261 sha256=91bd2530c185cc50a441675f764f3481a57bf8e8e2418b45944ab89d9dc93f27\n",
            "  Stored in directory: /root/.cache/pip/wheels/44/74/40/aac3b48aa3d964c28a29cc998adfaf69ed90aad30ee738ba9f\n",
            "  Building wheel for query-string (setup.py) ... \u001b[?25l\u001b[?25hdone\n",
            "  Created wheel for query-string: filename=query_string-0.0.0-cp36-none-any.whl size=1510 sha256=6b051f8b9ff0d99cda8a5947788f32e9b8c185c7f876eb8b43db06aa45a5501e\n",
            "  Stored in directory: /root/.cache/pip/wheels/b5/ad/d6/60f8dc1772dd7abe21ca04a65b60fbbdecafb56f55b46cc760\n",
            "Successfully built request get post query-string\n",
            "Installing collected packages: query-string, get, post, request\n",
            "Successfully installed get-0.0.0 post-0.0.0 query-string-0.0.0 request-0.0.0\n"
          ],
          "name": "stdout"
        }
      ]
    },
    {
      "cell_type": "markdown",
      "metadata": {
        "id": "bYxlhtqSZ5aF",
        "colab_type": "text"
      },
      "source": [
        "# New Section"
      ]
    },
    {
      "cell_type": "code",
      "metadata": {
        "id": "BnviNwriys3S",
        "colab_type": "code",
        "colab": {}
      },
      "source": [
        "import requests"
      ],
      "execution_count": 2,
      "outputs": []
    },
    {
      "cell_type": "code",
      "metadata": {
        "id": "BfPxo5Epy1sZ",
        "colab_type": "code",
        "colab": {}
      },
      "source": [
        "url=\"http://api.openweathermap.org/data/2.5/weather?lat=34.0635363&lon=-118.4455592&units=Imperial&appid=a3276b42c9fbb481824cd2e6c23dd953\""
      ],
      "execution_count": 3,
      "outputs": []
    },
    {
      "cell_type": "code",
      "metadata": {
        "id": "d66JwLcuy2bm",
        "colab_type": "code",
        "colab": {
          "base_uri": "https://localhost:8080/",
          "height": 54
        },
        "outputId": "a6acee03-9644-4a77-8ebb-27f7d37decb7"
      },
      "source": [
        "response = requests.get(url)\n",
        "print(response.text)"
      ],
      "execution_count": 4,
      "outputs": [
        {
          "output_type": "stream",
          "text": [
            "{\"coord\":{\"lon\":-118.45,\"lat\":34.06},\"weather\":[{\"id\":803,\"main\":\"Clouds\",\"description\":\"broken clouds\",\"icon\":\"04n\"}],\"base\":\"stations\",\"main\":{\"temp\":70.38,\"feels_like\":74.5,\"temp_min\":64.4,\"temp_max\":84.2,\"pressure\":1014,\"humidity\":93},\"visibility\":12874,\"wind\":{\"speed\":4.7,\"deg\":200},\"clouds\":{\"all\":75},\"dt\":1594442381,\"sys\":{\"type\":1,\"id\":5872,\"country\":\"US\",\"sunrise\":1594385442,\"sunset\":1594436844},\"timezone\":-25200,\"id\":5408522,\"name\":\"Westwood, Los Angeles\",\"cod\":200}\n"
          ],
          "name": "stdout"
        }
      ]
    }
  ]
}