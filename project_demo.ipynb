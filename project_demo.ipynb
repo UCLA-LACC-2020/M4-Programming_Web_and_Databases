{
  "nbformat": 4,
  "nbformat_minor": 0,
  "metadata": {
    "colab": {
      "name": "Copy of exercise_1.ipynb",
      "provenance": [],
      "collapsed_sections": [],
      "toc_visible": true,
      "include_colab_link": true
    },
    "kernelspec": {
      "name": "python3",
      "display_name": "Python 3"
    }
  },
  "cells": [
    {
      "cell_type": "markdown",
      "metadata": {
        "id": "view-in-github",
        "colab_type": "text"
      },
      "source": [
        "<a href=\"https://colab.research.google.com/github/UCLA-LACC-2020/M4-Programming_Web_and_Databases/blob/master/project_demo.ipynb\" target=\"_parent\"><img src=\"https://colab.research.google.com/assets/colab-badge.svg\" alt=\"Open In Colab\"/></a>"
      ]
    },
    {
      "cell_type": "markdown",
      "metadata": {
        "id": "bYxlhtqSZ5aF",
        "colab_type": "text"
      },
      "source": [
        "# Project demo\n"
      ]
    },
    {
      "cell_type": "code",
      "metadata": {
        "id": "d66JwLcuy2bm",
        "colab_type": "code",
        "colab": {
          "base_uri": "https://localhost:8080/",
          "height": 168
        },
        "outputId": "93159c47-5a95-463e-d0e5-01101e6c6895"
      },
      "source": [
        "import requests\n",
        "import json\n",
        "url=\"https://maps.googleapis.com/maps/api/place/nearbysearch/json?location=34.0635363,-118.4455592&radius=1000&type=hotels&keyword=stay&key=%20AIzaSyDC-YqTnzBikF1i9fbrvX4W6Xd0YOQEb-A\"\n",
        "response = requests.get(url)\n",
        "hotel_dict=json.loads(response.text)\n",
        "temp_array=[]\n",
        "for i in hotel_dict['results']:\n",
        "    print(i['geometry']['location'])\n",
        "    url_weather=\"http://api.openweathermap.org/data/2.5/weather?lat=\"+str(i['geometry']['location']['lat'])+\"&lon=\"+str(i['geometry']['location']['lng'])+\"&units=Imperial&appid=a3276b42c9fbb481824cd2e6c23dd953\"\n",
        "    response_weather = requests.get(url_weather)\n",
        "    #print(response_weather.text)\n",
        "    weather_dict=json.loads(response_weather.text)\n",
        "    print(weather_dict['main']['temp'])\n",
        "    temp_array.append(weather_dict['main']['temp'])\n",
        "\n",
        "def sort(array):\n",
        "    \"\"\"Sort the array by using quicksort.\"\"\"\n",
        "    less = []\n",
        "    equal = []\n",
        "    greater = []\n",
        "\n",
        "    if len(array) > 1:\n",
        "        pivot = array[0]\n",
        "        for x in array:\n",
        "            if x < pivot:\n",
        "                less.append(x)\n",
        "            elif x == pivot:\n",
        "                equal.append(x)\n",
        "            elif x > pivot:\n",
        "                greater.append(x)\n",
        "        return sort(less)+equal+sort(greater)  \n",
        "    else: \n",
        "        return array\n",
        "\n",
        "print(sort(temp_array)) #sorted temperature\n"
      ],
      "execution_count": null,
      "outputs": [
        {
          "output_type": "stream",
          "text": [
            "{'lat': 34.06101, 'lng': -118.44345}\n",
            "73.65\n",
            "{'lat': 34.0692755, 'lng': -118.4457852}\n",
            "73.26\n",
            "{'lat': 34.0745182, 'lng': -118.4385016}\n",
            "74.12\n",
            "{'lat': 34.0632073, 'lng': -118.4416734}\n",
            "73.65\n",
            "[73.26, 73.65, 73.65, 74.12]\n"
          ],
          "name": "stdout"
        }
      ]
    }
  ]
}